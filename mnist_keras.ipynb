{
 "cells": [
  {
   "cell_type": "code",
   "execution_count": 1,
   "metadata": {},
   "outputs": [
    {
     "name": "stderr",
     "output_type": "stream",
     "text": [
      "Using TensorFlow backend.\n",
      "/home/s-sato/anaconda3/envs/s-sato/lib/python3.7/site-packages/tensorflow/python/framework/dtypes.py:516: FutureWarning: Passing (type, 1) or '1type' as a synonym of type is deprecated; in a future version of numpy, it will be understood as (type, (1,)) / '(1,)type'.\n",
      "  _np_qint8 = np.dtype([(\"qint8\", np.int8, 1)])\n",
      "/home/s-sato/anaconda3/envs/s-sato/lib/python3.7/site-packages/tensorflow/python/framework/dtypes.py:517: FutureWarning: Passing (type, 1) or '1type' as a synonym of type is deprecated; in a future version of numpy, it will be understood as (type, (1,)) / '(1,)type'.\n",
      "  _np_quint8 = np.dtype([(\"quint8\", np.uint8, 1)])\n",
      "/home/s-sato/anaconda3/envs/s-sato/lib/python3.7/site-packages/tensorflow/python/framework/dtypes.py:518: FutureWarning: Passing (type, 1) or '1type' as a synonym of type is deprecated; in a future version of numpy, it will be understood as (type, (1,)) / '(1,)type'.\n",
      "  _np_qint16 = np.dtype([(\"qint16\", np.int16, 1)])\n",
      "/home/s-sato/anaconda3/envs/s-sato/lib/python3.7/site-packages/tensorflow/python/framework/dtypes.py:519: FutureWarning: Passing (type, 1) or '1type' as a synonym of type is deprecated; in a future version of numpy, it will be understood as (type, (1,)) / '(1,)type'.\n",
      "  _np_quint16 = np.dtype([(\"quint16\", np.uint16, 1)])\n",
      "/home/s-sato/anaconda3/envs/s-sato/lib/python3.7/site-packages/tensorflow/python/framework/dtypes.py:520: FutureWarning: Passing (type, 1) or '1type' as a synonym of type is deprecated; in a future version of numpy, it will be understood as (type, (1,)) / '(1,)type'.\n",
      "  _np_qint32 = np.dtype([(\"qint32\", np.int32, 1)])\n",
      "/home/s-sato/anaconda3/envs/s-sato/lib/python3.7/site-packages/tensorflow/python/framework/dtypes.py:525: FutureWarning: Passing (type, 1) or '1type' as a synonym of type is deprecated; in a future version of numpy, it will be understood as (type, (1,)) / '(1,)type'.\n",
      "  np_resource = np.dtype([(\"resource\", np.ubyte, 1)])\n",
      "/home/s-sato/anaconda3/envs/s-sato/lib/python3.7/site-packages/tensorboard/compat/tensorflow_stub/dtypes.py:541: FutureWarning: Passing (type, 1) or '1type' as a synonym of type is deprecated; in a future version of numpy, it will be understood as (type, (1,)) / '(1,)type'.\n",
      "  _np_qint8 = np.dtype([(\"qint8\", np.int8, 1)])\n",
      "/home/s-sato/anaconda3/envs/s-sato/lib/python3.7/site-packages/tensorboard/compat/tensorflow_stub/dtypes.py:542: FutureWarning: Passing (type, 1) or '1type' as a synonym of type is deprecated; in a future version of numpy, it will be understood as (type, (1,)) / '(1,)type'.\n",
      "  _np_quint8 = np.dtype([(\"quint8\", np.uint8, 1)])\n",
      "/home/s-sato/anaconda3/envs/s-sato/lib/python3.7/site-packages/tensorboard/compat/tensorflow_stub/dtypes.py:543: FutureWarning: Passing (type, 1) or '1type' as a synonym of type is deprecated; in a future version of numpy, it will be understood as (type, (1,)) / '(1,)type'.\n",
      "  _np_qint16 = np.dtype([(\"qint16\", np.int16, 1)])\n",
      "/home/s-sato/anaconda3/envs/s-sato/lib/python3.7/site-packages/tensorboard/compat/tensorflow_stub/dtypes.py:544: FutureWarning: Passing (type, 1) or '1type' as a synonym of type is deprecated; in a future version of numpy, it will be understood as (type, (1,)) / '(1,)type'.\n",
      "  _np_quint16 = np.dtype([(\"quint16\", np.uint16, 1)])\n",
      "/home/s-sato/anaconda3/envs/s-sato/lib/python3.7/site-packages/tensorboard/compat/tensorflow_stub/dtypes.py:545: FutureWarning: Passing (type, 1) or '1type' as a synonym of type is deprecated; in a future version of numpy, it will be understood as (type, (1,)) / '(1,)type'.\n",
      "  _np_qint32 = np.dtype([(\"qint32\", np.int32, 1)])\n",
      "/home/s-sato/anaconda3/envs/s-sato/lib/python3.7/site-packages/tensorboard/compat/tensorflow_stub/dtypes.py:550: FutureWarning: Passing (type, 1) or '1type' as a synonym of type is deprecated; in a future version of numpy, it will be understood as (type, (1,)) / '(1,)type'.\n",
      "  np_resource = np.dtype([(\"resource\", np.ubyte, 1)])\n"
     ]
    }
   ],
   "source": [
    "import os,re\n",
    "import keras\n",
    "from keras.datasets import mnist\n",
    "from keras.utils import to_categorical\n",
    "from keras.preprocessing.image import ImageDataGenerator\n",
    "from keras.preprocessing import image\n",
    "from keras import models\n",
    "from keras.models import Model\n",
    "from keras import Input\n",
    "from keras.layers import Activation, Conv2D, MaxPooling2D, Flatten, Dense\n",
    "from keras.callbacks import TensorBoard, ModelCheckpoint\n",
    "import matplotlib.pyplot as plt\n",
    "import numpy as np\n",
    "from sklearn.model_selection import train_test_split"
   ]
  },
  {
   "cell_type": "code",
   "execution_count": 2,
   "metadata": {},
   "outputs": [
    {
     "name": "stdout",
     "output_type": "stream",
     "text": [
      "Downloading data from https://s3.amazonaws.com/img-datasets/mnist.npz\n",
      "11493376/11490434 [==============================] - 14s 1us/step\n",
      "x_train   :  (48000, 28, 28)\n",
      "y_train   :  (48000,)\n",
      "x_val      :  (12000, 28, 28)\n",
      "y_val      :  (12000,)\n",
      "x_test    :  (10000, 28, 28)\n",
      "y_test    :  (10000,)\n"
     ]
    }
   ],
   "source": [
    "# 学習データとテストデータを取得する。\n",
    "(_x_train_val, _y_train_val), (_x_test, _y_test) = mnist.load_data()\n",
    "# 学習中の検証データがないので、train_test_split()を使って学習データ8割、検証データを2割に分割する。test_sizeが検証データの割合になっている。\n",
    "_x_train, _x_val, _y_train, _y_val = train_test_split(_x_train_val, _y_train_val, test_size=0.2)\n",
    "\n",
    "print(\"x_train   : \", _x_train.shape) # x_train   :  (48000, 28, 28)\n",
    "print(\"y_train   : \", _y_train.shape) # y_train   :  (48000,)\n",
    "print(\"x_val      : \", _x_val.shape) # x_val      :  (12000, 28, 28)\n",
    "print(\"y_val      : \", _y_val.shape) # y_val      :  (12000,)\n",
    "print(\"x_test    : \", _x_test.shape) # x_test    :  (10000, 28, 28)\n",
    "print(\"y_test    : \", _y_test.shape) # y_test    :  (10000,)"
   ]
  },
  {
   "cell_type": "code",
   "execution_count": 4,
   "metadata": {},
   "outputs": [
    {
     "data": {
      "image/png": "[encoded data removed]",
      "text/plain": [
       "<Figure size 720x720 with 10 Axes>"
      ]
     },
     "metadata": {
      "needs_background": "light"
     },
     "output_type": "display_data"
    }
   ],
   "source": [
    "plt.figure(figsize=(10,10))\n",
    "\n",
    "# MNISTの0から9の画像をそれぞれ表示する。\n",
    "for i in range(10):\n",
    "    data = [(x,t) for x, t in zip(_x_train, _y_train) if t == i]\n",
    "    x, y = data[0]\n",
    "\n",
    "    plt.subplot(5,2, i+1)\n",
    "    # plt.title()はタイトルを表示する。ここでは画像枚数を表示している。\n",
    "    plt.title(\"len={}\".format(len(data)))\n",
    "    # 画像を見やすいように座標軸を非表示にする。\n",
    "    plt.axis(\"off\")\n",
    "    # 画像を表示\n",
    "    plt.imshow(x, cmap='gray')\n",
    "\n",
    "plt.tight_layout()\n",
    "plt.show()"
   ]
  },
  {
   "cell_type": "code",
   "execution_count": 5,
   "metadata": {},
   "outputs": [],
   "source": [
    "# 学習、検証、テストデータの前処理用関数。\n",
    "def preprocess(data, label=False):\n",
    "    if label:\n",
    "        # 教師データはto_categorical()でone-hot-encodingする。\n",
    "        data = to_categorical(data)\n",
    "    else:\n",
    "        # 入力画像は、astype('float32')で型変換を行い、レンジを0-1にするために255で割る。\n",
    "        # 0-255 -> 0-1\n",
    "        data = data.astype('float32') / 255\n",
    "        # Kerasの入力データの形式は(ミニバッチサイズ、横幅、縦幅、チャネル数)である必要があるので、reshape()を使って形式を変換する。\n",
    "        # (sample, width, height) -> (sample, width, height, channel)\n",
    "        data = data.reshape((-1, 28, 28, 1))\n",
    "\n",
    "    return data"
   ]
  },
  {
   "cell_type": "code",
   "execution_count": 6,
   "metadata": {},
   "outputs": [
    {
     "name": "stdout",
     "output_type": "stream",
     "text": [
      "(48000, 28, 28, 1)\n",
      "(12000, 28, 28, 1)\n",
      "(10000, 28, 28, 1)\n",
      "1.0\n",
      "1.0\n",
      "1.0\n",
      "(48000, 10)\n",
      "(12000, 10)\n",
      "(10000, 10)\n"
     ]
    }
   ],
   "source": [
    "x_train = preprocess(_x_train)\n",
    "x_val= preprocess(_x_val)\n",
    "x_test = preprocess(_x_test)\n",
    "\n",
    "y_train = preprocess(_y_train, label=True)\n",
    "y_val = preprocess(_y_val, label=True)\n",
    "y_test = preprocess(_y_test, label=True)\n",
    "\n",
    "print(x_train.shape) # (48000, 28, 28, 1)\n",
    "print(x_val.shape) # (12000, 28, 28, 1)\n",
    "print(x_test.shape) # (10000, 28, 28, 1)\n",
    "print(x_train.max()) # 1.0\n",
    "print(x_val.max()) # 1.0\n",
    "print(y_test.max()) # 1.0\n",
    "print(y_train.shape) # (48000, 10)\n",
    "print(y_val.shape) # (12000, 10) \n",
    "print(y_test.shape) # (10000, 10)"
   ]
  },
  {
   "cell_type": "code",
   "execution_count": 7,
   "metadata": {},
   "outputs": [],
   "source": [
    "def model_sequential():\n",
    "    activation = 'relu'\n",
    "\n",
    "    model = models.Sequential()\n",
    "\n",
    "    model.add(Conv2D(32, (3, 3), padding='same', name='conv1', input_shape=(28, 28 , 1)))\n",
    "    model.add(Activation(activation, name='act1'))\n",
    "    model.add(MaxPooling2D((2, 2), name='pool1'))\n",
    "\n",
    "    model.add(Conv2D(64, (3, 3), padding='same', name='conv2'))\n",
    "    model.add(Activation(activation, name='act2'))\n",
    "    model.add(MaxPooling2D((2, 2), name='pool2'))\n",
    "\n",
    "    model.add(Conv2D(64, (3, 3), padding='same', name='conv3'))\n",
    "    model.add(Activation(activation, name='act3'))\n",
    "\n",
    "    model.add(Flatten(name='flatten'))\n",
    "    model.add(Dense(64, name='dense4'))\n",
    "    model.add(Activation(activation, name='act4'))\n",
    "    model.add(Dense(10, name='dense5'))\n",
    "    model.add(Activation('softmax', name='last_act'))\n",
    "\n",
    "    return model"
   ]
  },
  {
   "cell_type": "code",
   "execution_count": 8,
   "metadata": {},
   "outputs": [
    {
     "name": "stdout",
     "output_type": "stream",
     "text": [
      "WARNING:tensorflow:From /home/s-sato/anaconda3/envs/s-sato/lib/python3.7/site-packages/keras/backend/tensorflow_backend.py:74: The name tf.get_default_graph is deprecated. Please use tf.compat.v1.get_default_graph instead.\n",
      "\n",
      "WARNING:tensorflow:From /home/s-sato/anaconda3/envs/s-sato/lib/python3.7/site-packages/keras/backend/tensorflow_backend.py:517: The name tf.placeholder is deprecated. Please use tf.compat.v1.placeholder instead.\n",
      "\n",
      "WARNING:tensorflow:From /home/s-sato/anaconda3/envs/s-sato/lib/python3.7/site-packages/keras/backend/tensorflow_backend.py:4138: The name tf.random_uniform is deprecated. Please use tf.random.uniform instead.\n",
      "\n",
      "WARNING:tensorflow:From /home/s-sato/anaconda3/envs/s-sato/lib/python3.7/site-packages/keras/backend/tensorflow_backend.py:3976: The name tf.nn.max_pool is deprecated. Please use tf.nn.max_pool2d instead.\n",
      "\n",
      "_________________________________________________________________\n",
      "Layer (type)                 Output Shape              Param #   \n",
      "=================================================================\n",
      "conv1 (Conv2D)               (None, 28, 28, 32)        320       \n",
      "_________________________________________________________________\n",
      "act1 (Activation)            (None, 28, 28, 32)        0         \n",
      "_________________________________________________________________\n",
      "pool1 (MaxPooling2D)         (None, 14, 14, 32)        0         \n",
      "_________________________________________________________________\n",
      "conv2 (Conv2D)               (None, 14, 14, 64)        18496     \n",
      "_________________________________________________________________\n",
      "act2 (Activation)            (None, 14, 14, 64)        0         \n",
      "_________________________________________________________________\n",
      "pool2 (MaxPooling2D)         (None, 7, 7, 64)          0         \n",
      "_________________________________________________________________\n",
      "conv3 (Conv2D)               (None, 7, 7, 64)          36928     \n",
      "_________________________________________________________________\n",
      "act3 (Activation)            (None, 7, 7, 64)          0         \n",
      "_________________________________________________________________\n",
      "flatten (Flatten)            (None, 3136)              0         \n",
      "_________________________________________________________________\n",
      "dense4 (Dense)               (None, 64)                200768    \n",
      "_________________________________________________________________\n",
      "act4 (Activation)            (None, 64)                0         \n",
      "_________________________________________________________________\n",
      "dense5 (Dense)               (None, 10)                650       \n",
      "_________________________________________________________________\n",
      "last_act (Activation)        (None, 10)                0         \n",
      "=================================================================\n",
      "Total params: 257,162\n",
      "Trainable params: 257,162\n",
      "Non-trainable params: 0\n",
      "_________________________________________________________________\n",
      "WARNING:tensorflow:From /home/s-sato/anaconda3/envs/s-sato/lib/python3.7/site-packages/keras/optimizers.py:790: The name tf.train.Optimizer is deprecated. Please use tf.compat.v1.train.Optimizer instead.\n",
      "\n",
      "WARNING:tensorflow:From /home/s-sato/anaconda3/envs/s-sato/lib/python3.7/site-packages/keras/backend/tensorflow_backend.py:3295: The name tf.log is deprecated. Please use tf.math.log instead.\n",
      "\n"
     ]
    }
   ],
   "source": [
    "model = model_sequential()\n",
    "model.summary()\n",
    "model.compile(optimizer='rmsprop',\n",
    "              loss='categorical_crossentropy',\n",
    "              metrics=['accuracy'])"
   ]
  },
  {
   "cell_type": "code",
   "execution_count": 9,
   "metadata": {},
   "outputs": [],
   "source": [
    "datagen = ImageDataGenerator(\n",
    "    featurewise_center=False,\n",
    "    samplewise_center=False,\n",
    "    featurewise_std_normalization=False,\n",
    "    samplewise_std_normalization=False,\n",
    "    zca_whitening=False,\n",
    "    rotation_range=20,\n",
    "    width_shift_range=0.1,\n",
    "    height_shift_range=0.1,\n",
    "    horizontal_flip=False,\n",
    "    vertical_flip=False)"
   ]
  },
  {
   "cell_type": "code",
   "execution_count": 10,
   "metadata": {},
   "outputs": [
    {
     "name": "stdout",
     "output_type": "stream",
     "text": [
      "WARNING:tensorflow:From /home/s-sato/anaconda3/envs/s-sato/lib/python3.7/site-packages/tensorflow/python/ops/math_grad.py:1250: add_dispatch_support.<locals>.wrapper (from tensorflow.python.ops.array_ops) is deprecated and will be removed in a future version.\n",
      "Instructions for updating:\n",
      "Use tf.where in 2.0, which has the same broadcast rule as np.where\n",
      "WARNING:tensorflow:From /home/s-sato/anaconda3/envs/s-sato/lib/python3.7/site-packages/keras/backend/tensorflow_backend.py:986: The name tf.assign_add is deprecated. Please use tf.compat.v1.assign_add instead.\n",
      "\n",
      "Epoch 1/3\n",
      "375/375 [==============================] - 16s 43ms/step - loss: 0.4300 - acc: 0.8631 - val_loss: 0.0797 - val_acc: 0.9725\n",
      "Epoch 2/3\n",
      "375/375 [==============================] - 12s 33ms/step - loss: 0.1145 - acc: 0.9645 - val_loss: 0.0460 - val_acc: 0.9845\n",
      "Epoch 3/3\n",
      "375/375 [==============================] - 12s 33ms/step - loss: 0.0815 - acc: 0.9746 - val_loss: 0.0414 - val_acc: 0.9872\n"
     ]
    }
   ],
   "source": [
    "batch_size=128\n",
    "epochs=3\n",
    "verbose=1\n",
    "steps_per_epoch = x_train.shape[0] // batch_size\n",
    "\n",
    "history = model.fit_generator(\n",
    "    datagen.flow(x_train, y_train, batch_size=batch_size),\n",
    "    steps_per_epoch=steps_per_epoch,\n",
    "    epochs=epochs,\n",
    "    validation_data=(x_val, y_val),\n",
    "    #callbacks=cbs,\n",
    "    verbose=verbose)"
   ]
  },
  {
   "cell_type": "code",
   "execution_count": 11,
   "metadata": {},
   "outputs": [
    {
     "data": {
      "image/png": "[encoded data removed]",
      "text/plain": [
       "<Figure size 432x288 with 1 Axes>"
      ]
     },
     "metadata": {
      "needs_background": "light"
     },
     "output_type": "display_data"
    }
   ],
   "source": [
    "acc = history.history['acc']\n",
    "val_acc = history.history['val_acc']\n",
    "\n",
    "epochs = range(1, len(acc)+1)\n",
    "plt.plot(epochs, acc, 'b', label='Training accuracy')\n",
    "plt.plot(epochs, val_acc, 'r', label='Val accuracy')\n",
    "plt.legend()\n",
    "plt.show()\n"
   ]
  },
  {
   "cell_type": "code",
   "execution_count": 12,
   "metadata": {},
   "outputs": [
    {
     "data": {
      "image/png": "[encoded data removed]",
      "text/plain": [
       "<Figure size 432x288 with 1 Axes>"
      ]
     },
     "metadata": {
      "needs_background": "light"
     },
     "output_type": "display_data"
    }
   ],
   "source": [
    "loss = history.history['loss']\n",
    "val_loss = history.history['val_loss']\n",
    "\n",
    "epochs = range(1, len(loss)+1 )\n",
    "plt.plot(epochs, loss, 'b', label='Training loss')\n",
    "plt.plot(epochs, val_loss, 'r', label='Val loss')\n",
    "plt.legend()\n",
    "plt.show()"
   ]
  },
  {
   "cell_type": "code",
   "execution_count": null,
   "metadata": {},
   "outputs": [],
   "source": []
  }
 ],
 "metadata": {
  "kernelspec": {
   "display_name": "Python 3",
   "language": "python",
   "name": "python3"
  },
  "language_info": {
   "codemirror_mode": {
    "name": "ipython",
    "version": 3
   },
   "file_extension": ".py",
   "mimetype": "text/x-python",
   "name": "python",
   "nbconvert_exporter": "python",
   "pygments_lexer": "ipython3",
   "version": "3.7.6"
  }
 },
 "nbformat": 4,
 "nbformat_minor": 2
}
